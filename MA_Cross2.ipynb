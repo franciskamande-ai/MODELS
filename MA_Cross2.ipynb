{
 "cells": [
  {
   "cell_type": "code",
   "execution_count": 39,
   "id": "389f9650",
   "metadata": {},
   "outputs": [],
   "source": [
    "import yfinance as yf\n",
    "import pandas as pd\n",
    "import matplotlib.pyplot as plt\n",
    "import numpy as np"
   ]
  },
  {
   "cell_type": "code",
   "execution_count": null,
   "id": "0c077722",
   "metadata": {},
   "outputs": [
    {
     "name": "stderr",
     "output_type": "stream",
     "text": [
      "[*********************100%***********************]  1 of 1 completed\n"
     ]
    }
   ],
   "source": [
    "TICKER = 'SPY'\n",
    "INTERVAL='1d'\n",
    "\n",
    "# set period based on interval\n",
    "if INTERVAL == '1h':\n",
    "    PERIOD = '730d'\n",
    "else:\n",
    "    PERIOD = 'max'\n",
    "LOOKBACK = 10000\n",
    "\n",
    "FAST = list(range(3, 200))\n",
    "SLOW = list(range(4, 200))\n",
    "\n",
    "def get_data(ticker=TICKER, lookback=LOOKBACK, interval=INTERVAL):\n",
    "\n",
    "    # get data at interval you want\n",
    "    df = yf.download(ticker, interval=interval, auto_adjust=False)\n",
    "    df.columns = df.columns.get_level_values(0)\n",
    "\n",
    "    # reset the index to make plots prettier\n",
    "    df = df.reset_index(drop=True)\n",
    "\n",
    "    # only return the subset of data you are interested in\n",
    "    return df.iloc[-lookback:, :]\n",
    "\n",
    "def add_moving_averages(df, fast, slow):\n",
    "    df[f'{fast}_ma'] = df['Close'].ewm(span=fast).mean()\n",
    "    df[f'{slow}_ma'] = df['Close'].ewm(span=slow).mean()\n",
    "\n",
    "    return df.dropna()\n",
    "\n",
    "def add_strategy(df, fast, slow):\n",
    "    \n",
    "    # long when fast > slow, short otherwise\n",
    "    df['Strategy'] = np.where(df[f'{fast}_ma'] > df[f'{slow}_ma'], 1, -1)\n",
    "    df['Strategy'] = df['Strategy'].shift(1)\n",
    "    return df\n",
    "\n",
    "def test_strategy(df):\n",
    "    df['Asset_Returns'] = (1 + df['Close'].pct_change()).cumprod() - 1\n",
    "    df['Strategy_Returns'] = (1 + df['Close'].pct_change() * df['Strategy']).cumprod() -1\n",
    "\n",
    "    plt.plot(df['Strategy_Returns'])    \n",
    "    return df.dropna()\n",
    "\n",
    "def main():\n",
    "    base = get_data()\n",
    "    plt.figure(figsize=(12, 8))\n",
    "    legend_list = []\n",
    "\n",
    "    best_returns = -np.inf\n",
    "    best_params = None\n",
    "\n",
    "    for s in SLOW:\n",
    "        for f in FAST:\n",
    "            if f < s:\n",
    "                df = base.copy()\n",
    "                df = add_moving_averages(df, f, s)\n",
    "                df = add_strategy(df, f, s)\n",
    "                df = test_strategy(df)\n",
    "                legend_list.append(f'{f}, {s} cross')\n",
    "\n",
    "                returns = float(df['Strategy_Returns'].iloc[-1])\n",
    "                if returns > best_returns:\n",
    "                    best_returns = returns\n",
    "                    best_params = [f, s]\n",
    "\n",
    "    plt.title(f'Optimal Combination: {best_params}')\n",
    "    return df\n",
    "\n",
    "main()"
   ]
  }
 ],
 "metadata": {
  "kernelspec": {
   "display_name": "myenv",
   "language": "python",
   "name": "python3"
  },
  "language_info": {
   "codemirror_mode": {
    "name": "ipython",
    "version": 3
   },
   "file_extension": ".py",
   "mimetype": "text/x-python",
   "name": "python",
   "nbconvert_exporter": "python",
   "pygments_lexer": "ipython3",
   "version": "3.13.1"
  }
 },
 "nbformat": 4,
 "nbformat_minor": 5
}

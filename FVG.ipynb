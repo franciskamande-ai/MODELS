{
 "cells": [
  {
   "cell_type": "code",
   "execution_count": 18,
   "id": "2cb8f1e1",
   "metadata": {},
   "outputs": [],
   "source": [
    "import yfinance as yf\n",
    "import matplotlib.pyplot as plt\n",
    "import pandas as pd\n",
    "import numpy as np"
   ]
  },
  {
   "cell_type": "code",
   "execution_count": 19,
   "id": "4acba3a7",
   "metadata": {},
   "outputs": [
    {
     "name": "stderr",
     "output_type": "stream",
     "text": [
      "[*********************100%***********************]  1 of 1 completed\n"
     ]
    },
    {
     "name": "stdout",
     "output_type": "stream",
     "text": [
      "1658 Bullish FVGs\n",
      "Bull FVG 5 Period Average returns: 0.1%\n",
      "Bull FVG Win Rate: 42.28%\n",
      "828 Medium Sized Bullish FVGs\n",
      "Medium Bull FVG 5 Period Average returns: 0.08%\n",
      "Medium Bull FVG Win Rate: 44.69%\n",
      "1010 Bearish FVGS\n",
      "Bear FVG 5 Period Average returns: 0.45%\n",
      "Bear FVG Win Rate: 61.09%\n",
      "504 Medium Sized Bearish FVGs\n",
      "Medium Bear FVG 5 Period Average returns: 0.37%\n",
      "Medium Bull FVG Win Rate: 59.52%\n"
     ]
    },
    {
     "data": {
      "image/png": "[encoded data removed]",
      "text/plain": [
       "<Figure size 640x480 with 1 Axes>"
      ]
     },
     "metadata": {},
     "output_type": "display_data"
    },
    {
     "data": {
      "image/png": "[encoded data removed]",
      "text/plain": [
       "<Figure size 640x480 with 1 Axes>"
      ]
     },
     "metadata": {},
     "output_type": "display_data"
    }
   ],
   "source": [
    "TICKER = 'SPY'\n",
    "LOOKBACK = 10000\n",
    "HOLDING_PERIOD = 5\n",
    "\n",
    "def get_data(ticker=TICKER):\n",
    "    df = yf.download(ticker)\n",
    "    df.columns = df.columns.get_level_values(0)\n",
    "\n",
    "    # only return the subset of data you are interested in\n",
    "    return df.iloc[-LOOKBACK:, :]\n",
    "\n",
    "def bull_fvg(df):\n",
    "\n",
    "    df['High_2prev'] = df['High'].shift(2)\n",
    "    df['Bull_FVG'] = (df['Low'] > df['High_2prev']).astype(int)\n",
    "    df['Bull_FVG_Val'] = (df['Low'] - df['High_2prev']) * df['Bull_FVG'] / df['Close']\n",
    "\n",
    "    fvg_subset = df[df['Bull_FVG_Val'] > 0]\n",
    "\n",
    "    plt.hist(fvg_subset['Bull_FVG_Val'], bins=10)\n",
    "    plt.title('Bullish Fair Value Gap Values')\n",
    "\n",
    "    return df\n",
    "\n",
    "def bear_fvg(df):\n",
    "\n",
    "    df['Low_2prev'] = df['Low'].shift(2)\n",
    "    df['Bear_FVG'] = (df['High'] < df['Low_2prev']).astype(int)\n",
    "    df['Bear_FVG_Val'] = (df['High'] - df['Low_2prev']) * df['Bear_FVG'] / df['Close']\n",
    "\n",
    "    fvg_subset = df[df['Bear_FVG_Val'] < 0]\n",
    "\n",
    "    plt.figure()\n",
    "    plt.hist(fvg_subset['Bear_FVG_Val'], bins=10)\n",
    "    plt.title('Bearish Fair Value Gap Values')\n",
    "\n",
    "    return df\n",
    "\n",
    "def assess_bull_FVG(df, holding_period=HOLDING_PERIOD):\n",
    "\n",
    "    #5 day holding period returns\n",
    "    df[f'Returns_In_{holding_period}_Periods'] = df['Close'].shift(-holding_period) / df['Close']\n",
    "    \n",
    "    fvg_subset = df[df['Bull_FVG_Val'] > 0]\n",
    "    print(f'{len(fvg_subset)} Bullish FVGs')\n",
    "    print(f'Bull FVG {holding_period} Period Average returns: {round((fvg_subset[f'Returns_In_{holding_period}_Periods'].mean() - 1) * 100, 2)}%')\n",
    "\n",
    "    win_rate = (fvg_subset[f'Returns_In_{holding_period}_Periods'] < 1).mean() * 100\n",
    "    print(f'Bull FVG Win Rate: {round(win_rate, 2)}%')\n",
    "\n",
    "    # define quantiles\n",
    "    lower = fvg_subset['Bull_FVG_Val'].quantile(.25)\n",
    "    upper = fvg_subset['Bull_FVG_Val'].quantile(.75)\n",
    "\n",
    "    # subset\n",
    "    fvg_medium_val = fvg_subset[\n",
    "        (fvg_subset['Bull_FVG_Val'] >= lower) & (fvg_subset['Bull_FVG_Val'] <= upper)\n",
    "    ]\n",
    "    print(f'{len(fvg_medium_val)} Medium Sized Bullish FVGs')\n",
    "    print(f'Medium Bull FVG {holding_period} Period Average returns: {round((fvg_medium_val[f'Returns_In_{holding_period}_Periods'].mean() - 1) * 100, 2)}%')\n",
    "\n",
    "    win_rate_medium = (fvg_medium_val[f'Returns_In_{holding_period}_Periods'] < 1).mean() * 100\n",
    "    print(f'Medium Bull FVG Win Rate: {round(win_rate_medium, 2)}%')\n",
    "\n",
    "    return df\n",
    "\n",
    "def assess_bear_FVG(df, holding_period=HOLDING_PERIOD):\n",
    "\n",
    "    #5 day holding period returns\n",
    "    df[f'Returns_In_{holding_period}_Periods'] = df['Close'].shift(-holding_period) / df['Close']\n",
    "    \n",
    "    fvg_subset = df[df['Bear_FVG_Val'] < 0]\n",
    "    print(f'{len(fvg_subset)} Bearish FVGS')\n",
    "    print(f'Bear FVG {holding_period} Period Average returns: {round((fvg_subset[f'Returns_In_{holding_period}_Periods'].mean() - 1) * 100, 2)}%')\n",
    "\n",
    "    win_rate = (fvg_subset[f'Returns_In_{holding_period}_Periods'] > 1).mean() * 100\n",
    "    print(f'Bear FVG Win Rate: {round(win_rate, 2)}%')\n",
    "\n",
    "\n",
    "    # define quantiles\n",
    "    lower = fvg_subset['Bear_FVG_Val'].quantile(.25)\n",
    "    upper = fvg_subset['Bear_FVG_Val'].quantile(.75)\n",
    "\n",
    "    # subset\n",
    "    fvg_medium_val = fvg_subset[\n",
    "        (fvg_subset['Bear_FVG_Val'] >= lower) & (fvg_subset['Bear_FVG_Val'] <= upper)\n",
    "    ]\n",
    "    print(f'{len(fvg_medium_val)} Medium Sized Bearish FVGs')\n",
    "    print(f'Medium Bear FVG {holding_period} Period Average returns: {round((fvg_medium_val[f'Returns_In_{holding_period}_Periods'].mean() - 1) * 100, 2)}%')\n",
    "\n",
    "    win_rate_medium = (fvg_medium_val[f'Returns_In_{holding_period}_Periods'] > 1).mean() * 100\n",
    "    print(f'Medium Bull FVG Win Rate: {round(win_rate_medium, 2)}%')\n",
    "\n",
    "    return df\n",
    "\n",
    "def main():\n",
    "    df = get_data()\n",
    "    df = bull_fvg(df)\n",
    "    df = bear_fvg(df)\n",
    "    df = assess_bull_FVG(df)\n",
    "    df = assess_bear_FVG(df)\n",
    "\n",
    "    return df\n",
    "\n",
    "df = main()"
   ]
  }
 ],
 "metadata": {
  "kernelspec": {
   "display_name": "myenv",
   "language": "python",
   "name": "python3"
  },
  "language_info": {
   "codemirror_mode": {
    "name": "ipython",
    "version": 3
   },
   "file_extension": ".py",
   "mimetype": "text/x-python",
   "name": "python",
   "nbconvert_exporter": "python",
   "pygments_lexer": "ipython3",
   "version": "3.13.1"
  }
 },
 "nbformat": 4,
 "nbformat_minor": 5
}
